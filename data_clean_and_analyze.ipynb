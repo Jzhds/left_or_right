{
 "cells": [
  {
   "cell_type": "code",
   "execution_count": 46,
   "metadata": {
    "collapsed": true,
    "pycharm": {
     "is_executing": false
    }
   },
   "outputs": [],
   "source": [
    "import pandas as pd\n",
    "import numpy as np\n",
    "import matplotlib.pyplot as plt\n",
    "from pylab import mpl\n",
    "mpl.rcParams['font.sans-serif'] = ['FangSong']  # 指定默认字体\n",
    "mpl.rcParams['axes.unicode_minus'] = False\n",
    "\n"
   ]
  },
  {
   "cell_type": "code",
   "execution_count": 47,
   "outputs": [
    {
     "data": {
      "text/plain": "                      名称 重仓股股票Wind代码\\n[报告期]2020-03-31\\n[名次]第1名  \\\n代码                                                               \nCode                Name                  prt_topstockwindcode   \n000008.OF  嘉实中证500ETF联接A                             600745.SH   \n000042.OF   财通中证100指数增强A                             002142.SZ   \n000051.OF  华夏沪深300ETF联接A                             601318.SH   \n000059.OF    国联安中证医药100A                             600276.SH   \n\n          重仓股股票Wind代码\\n[报告期]2020-06-30\\n[名次]第1名  \\\n代码                                                \nCode                       prt_topstockwindcode   \n000008.OF                             002821.SZ   \n000042.OF                             601328.SH   \n000051.OF                             601318.SH   \n000059.OF                             300759.SZ   \n\n          重仓股股票Wind代码\\n[报告期]2020-09-30\\n[名次]第1名  \\\n代码                                                \nCode                       prt_topstockwindcode   \n000008.OF                             600008.SH   \n000042.OF                             600519.SH   \n000051.OF                             601318.SH   \n000059.OF                             603882.SH   \n\n          重仓股股票Wind代码\\n[报告期]2020-12-31\\n[名次]第1名  \\\n代码                                                \nCode                       prt_topstockwindcode   \n000008.OF                             603605.SH   \n000042.OF                             601633.SH   \n000051.OF                             600030.SH   \n000059.OF                             603882.SH   \n\n          重仓股股票Wind代码\\n[报告期]2020-03-31\\n[名次]第2名  \\\n代码                                                \nCode                       prt_topstockwindcode   \n000008.OF                             300253.SZ   \n000042.OF                             601398.SH   \n000051.OF                             000651.SZ   \n000059.OF                             002603.SZ   \n\n          重仓股股票Wind代码\\n[报告期]2020-06-30\\n[名次]第2名  \\\n代码                                                \nCode                       prt_topstockwindcode   \n000008.OF                             300253.SZ   \n000042.OF                             601988.SH   \n000051.OF                             600519.SH   \n000059.OF                             300347.SZ   \n\n          重仓股股票Wind代码\\n[报告期]2020-09-30\\n[名次]第2名  \\\n代码                                                \nCode                       prt_topstockwindcode   \n000008.OF                             601966.SH   \n000042.OF                             000333.SZ   \n000051.OF                             600519.SH   \n000059.OF                             300759.SZ   \n\n          重仓股股票Wind代码\\n[报告期]2020-12-31\\n[名次]第2名  \\\n代码                                                \nCode                       prt_topstockwindcode   \n000008.OF                             002500.SZ   \n000042.OF                             002142.SZ   \n000051.OF                             600519.SH   \n000059.OF                             603259.SH   \n\n          重仓股股票Wind代码\\n[报告期]2020-03-31\\n[名次]第3名  ...  \\\n代码                                               ...   \nCode                       prt_topstockwindcode  ...   \n000008.OF                             002463.SZ  ...   \n000042.OF                             601633.SH  ...   \n000051.OF                             000333.SZ  ...   \n000059.OF                             002223.SZ  ...   \n\n          重仓股票持有基金数\\n[报告期]2020-12-31\\n[名次]第3名  \\\n代码                                              \nCode                       prt_fundnoofstocks   \n000008.OF                                   8   \n000042.OF                                 582   \n000051.OF                                1277   \n000059.OF                                 757   \n\n          重仓股票持有基金数\\n[报告期]2020-12-31\\n[名次]第4名  \\\n代码                                              \nCode                       prt_fundnoofstocks   \n000008.OF                                   1   \n000042.OF                                1667   \n000051.OF                                1326   \n000059.OF                                  54   \n\n          重仓股票持有基金数\\n[报告期]2020-12-31\\n[名次]第5名  \\\n代码                                              \nCode                       prt_fundnoofstocks   \n000008.OF                                  53   \n000042.OF                                  36   \n000051.OF                                1060   \n000059.OF                                 457   \n\n          重仓股涨跌幅\\n[报告期]2020-12-31\\n[名次]第1名\\n[起始交易日期]2020-11-01\\n[截止交易日期]2020-12-31  \\\n代码                                                                                   \nCode                          prt_heavilyheldstocksperchange                         \n000008.OF                                            2.82479                         \n000042.OF                                            59.4013                         \n000051.OF                                            2.68949                         \n000059.OF                                            21.6252                         \n\n          重仓股涨跌幅\\n[报告期]2020-12-31\\n[名次]第2名\\n[起始交易日期]2020-11-01\\n[截止交易日期]2020-12-31  \\\n代码                                                                                   \nCode                          prt_heavilyheldstocksperchange                         \n000008.OF                                            19.1744                         \n000042.OF                                            4.00235                         \n000051.OF                                            19.6393                         \n000059.OF                                            19.5174                         \n\n          重仓股涨跌幅\\n[报告期]2020-12-31\\n[名次]第3名\\n[起始交易日期]2020-11-01\\n[截止交易日期]2020-12-31  \\\n代码                                                                                   \nCode                          prt_heavilyheldstocksperchange                         \n000008.OF                                            2.32338                         \n000042.OF                                            17.2472                         \n000051.OF                                            11.7564                         \n000059.OF                                            25.4615                         \n\n          重仓股涨跌幅\\n[报告期]2020-12-31\\n[名次]第4名\\n[起始交易日期]2020-11-01\\n[截止交易日期]2020-12-31  \\\n代码                                                                                   \nCode                          prt_heavilyheldstocksperchange                         \n000008.OF                                            55.3672                         \n000042.OF                                            19.6393                         \n000051.OF                                            19.4393                         \n000059.OF                                            4.69565                         \n\n          重仓股涨跌幅\\n[报告期]2020-12-31\\n[名次]第5名\\n[起始交易日期]2020-11-01\\n[截止交易日期]2020-12-31  \\\n代码                                                                                   \nCode                          prt_heavilyheldstocksperchange                         \n000008.OF                                           -9.40989                         \n000042.OF                                            86.6972                         \n000051.OF                                            26.4158                         \n000059.OF                                            19.8628                         \n\n                    平均持仓时间\\n[年度]2020 平均持仓时间同类排名\\n[年度]2020\\n[基金分类]开放式/封闭式  \n代码                                                                        \nCode       style_averagepositiontime        style_avgpositiontimeranking  \n000008.OF                  0.0130596                             97.0233  \n000042.OF                   0.244094                             81.7826  \n000051.OF                   0.852148                             38.4079  \n000059.OF                    2.73168                             7.92652  \n\n[5 rows x 33 columns]",
      "text/html": "<div>\n<style scoped>\n    .dataframe tbody tr th:only-of-type {\n        vertical-align: middle;\n    }\n\n    .dataframe tbody tr th {\n        vertical-align: top;\n    }\n\n    .dataframe thead th {\n        text-align: right;\n    }\n</style>\n<table border=\"1\" class=\"dataframe\">\n  <thead>\n    <tr style=\"text-align: right;\">\n      <th></th>\n      <th>名称</th>\n      <th>重仓股股票Wind代码\n[报告期]2020-03-31\n[名次]第1名</th>\n      <th>重仓股股票Wind代码\n[报告期]2020-06-30\n[名次]第1名</th>\n      <th>重仓股股票Wind代码\n[报告期]2020-09-30\n[名次]第1名</th>\n      <th>重仓股股票Wind代码\n[报告期]2020-12-31\n[名次]第1名</th>\n      <th>重仓股股票Wind代码\n[报告期]2020-03-31\n[名次]第2名</th>\n      <th>重仓股股票Wind代码\n[报告期]2020-06-30\n[名次]第2名</th>\n      <th>重仓股股票Wind代码\n[报告期]2020-09-30\n[名次]第2名</th>\n      <th>重仓股股票Wind代码\n[报告期]2020-12-31\n[名次]第2名</th>\n      <th>重仓股股票Wind代码\n[报告期]2020-03-31\n[名次]第3名</th>\n      <th>...</th>\n      <th>重仓股票持有基金数\n[报告期]2020-12-31\n[名次]第3名</th>\n      <th>重仓股票持有基金数\n[报告期]2020-12-31\n[名次]第4名</th>\n      <th>重仓股票持有基金数\n[报告期]2020-12-31\n[名次]第5名</th>\n      <th>重仓股涨跌幅\n[报告期]2020-12-31\n[名次]第1名\n[起始交易日期]2020-11-01\n[截止交易日期]2020-12-31</th>\n      <th>重仓股涨跌幅\n[报告期]2020-12-31\n[名次]第2名\n[起始交易日期]2020-11-01\n[截止交易日期]2020-12-31</th>\n      <th>重仓股涨跌幅\n[报告期]2020-12-31\n[名次]第3名\n[起始交易日期]2020-11-01\n[截止交易日期]2020-12-31</th>\n      <th>重仓股涨跌幅\n[报告期]2020-12-31\n[名次]第4名\n[起始交易日期]2020-11-01\n[截止交易日期]2020-12-31</th>\n      <th>重仓股涨跌幅\n[报告期]2020-12-31\n[名次]第5名\n[起始交易日期]2020-11-01\n[截止交易日期]2020-12-31</th>\n      <th>平均持仓时间\n[年度]2020</th>\n      <th>平均持仓时间同类排名\n[年度]2020\n[基金分类]开放式/封闭式</th>\n    </tr>\n    <tr>\n      <th>代码</th>\n      <th></th>\n      <th></th>\n      <th></th>\n      <th></th>\n      <th></th>\n      <th></th>\n      <th></th>\n      <th></th>\n      <th></th>\n      <th></th>\n      <th></th>\n      <th></th>\n      <th></th>\n      <th></th>\n      <th></th>\n      <th></th>\n      <th></th>\n      <th></th>\n      <th></th>\n      <th></th>\n      <th></th>\n    </tr>\n  </thead>\n  <tbody>\n    <tr>\n      <th>Code</th>\n      <td>Name</td>\n      <td>prt_topstockwindcode</td>\n      <td>prt_topstockwindcode</td>\n      <td>prt_topstockwindcode</td>\n      <td>prt_topstockwindcode</td>\n      <td>prt_topstockwindcode</td>\n      <td>prt_topstockwindcode</td>\n      <td>prt_topstockwindcode</td>\n      <td>prt_topstockwindcode</td>\n      <td>prt_topstockwindcode</td>\n      <td>...</td>\n      <td>prt_fundnoofstocks</td>\n      <td>prt_fundnoofstocks</td>\n      <td>prt_fundnoofstocks</td>\n      <td>prt_heavilyheldstocksperchange</td>\n      <td>prt_heavilyheldstocksperchange</td>\n      <td>prt_heavilyheldstocksperchange</td>\n      <td>prt_heavilyheldstocksperchange</td>\n      <td>prt_heavilyheldstocksperchange</td>\n      <td>style_averagepositiontime</td>\n      <td>style_avgpositiontimeranking</td>\n    </tr>\n    <tr>\n      <th>000008.OF</th>\n      <td>嘉实中证500ETF联接A</td>\n      <td>600745.SH</td>\n      <td>002821.SZ</td>\n      <td>600008.SH</td>\n      <td>603605.SH</td>\n      <td>300253.SZ</td>\n      <td>300253.SZ</td>\n      <td>601966.SH</td>\n      <td>002500.SZ</td>\n      <td>002463.SZ</td>\n      <td>...</td>\n      <td>8</td>\n      <td>1</td>\n      <td>53</td>\n      <td>2.82479</td>\n      <td>19.1744</td>\n      <td>2.32338</td>\n      <td>55.3672</td>\n      <td>-9.40989</td>\n      <td>0.0130596</td>\n      <td>97.0233</td>\n    </tr>\n    <tr>\n      <th>000042.OF</th>\n      <td>财通中证100指数增强A</td>\n      <td>002142.SZ</td>\n      <td>601328.SH</td>\n      <td>600519.SH</td>\n      <td>601633.SH</td>\n      <td>601398.SH</td>\n      <td>601988.SH</td>\n      <td>000333.SZ</td>\n      <td>002142.SZ</td>\n      <td>601633.SH</td>\n      <td>...</td>\n      <td>582</td>\n      <td>1667</td>\n      <td>36</td>\n      <td>59.4013</td>\n      <td>4.00235</td>\n      <td>17.2472</td>\n      <td>19.6393</td>\n      <td>86.6972</td>\n      <td>0.244094</td>\n      <td>81.7826</td>\n    </tr>\n    <tr>\n      <th>000051.OF</th>\n      <td>华夏沪深300ETF联接A</td>\n      <td>601318.SH</td>\n      <td>601318.SH</td>\n      <td>601318.SH</td>\n      <td>600030.SH</td>\n      <td>000651.SZ</td>\n      <td>600519.SH</td>\n      <td>600519.SH</td>\n      <td>600519.SH</td>\n      <td>000333.SZ</td>\n      <td>...</td>\n      <td>1277</td>\n      <td>1326</td>\n      <td>1060</td>\n      <td>2.68949</td>\n      <td>19.6393</td>\n      <td>11.7564</td>\n      <td>19.4393</td>\n      <td>26.4158</td>\n      <td>0.852148</td>\n      <td>38.4079</td>\n    </tr>\n    <tr>\n      <th>000059.OF</th>\n      <td>国联安中证医药100A</td>\n      <td>600276.SH</td>\n      <td>300759.SZ</td>\n      <td>603882.SH</td>\n      <td>603882.SH</td>\n      <td>002603.SZ</td>\n      <td>300347.SZ</td>\n      <td>300759.SZ</td>\n      <td>603259.SH</td>\n      <td>002223.SZ</td>\n      <td>...</td>\n      <td>757</td>\n      <td>54</td>\n      <td>457</td>\n      <td>21.6252</td>\n      <td>19.5174</td>\n      <td>25.4615</td>\n      <td>4.69565</td>\n      <td>19.8628</td>\n      <td>2.73168</td>\n      <td>7.92652</td>\n    </tr>\n  </tbody>\n</table>\n<p>5 rows × 33 columns</p>\n</div>"
     },
     "metadata": {},
     "output_type": "execute_result",
     "execution_count": 47
    }
   ],
   "source": [
    "#读入重仓股票相关数据\n",
    "fund_data = pd.read_excel('基金相关数据.xlsx',index_col=0)\n",
    "fund_data.head()"
   ],
   "metadata": {
    "collapsed": false,
    "pycharm": {
     "name": "#%%\n",
     "is_executing": false
    }
   }
  },
  {
   "cell_type": "code",
   "execution_count": 48,
   "outputs": [],
   "source": [
    "#原始数据包含了从20年季度重仓的数据，处理只保留20年三季和年度的重仓情况\n",
    "selected_col_list = [3,4,7,8,11,12,15,16,19,20]\n",
    "selected_col_list.extend(list(range(21,33)))\n",
    "fund_simpled_data = fund_data.iloc[:,selected_col_list]"
   ],
   "metadata": {
    "collapsed": false,
    "pycharm": {
     "name": "#%%\n",
     "is_executing": false
    }
   }
  },
  {
   "cell_type": "code",
   "execution_count": 49,
   "outputs": [
    {
     "data": {
      "text/plain": "          重仓股股票Wind代码\\n[报告期]2020-09-30\\n[名次]第1名  \\\n代码                                                \n000008.OF                             600008.SH   \n000042.OF                             600519.SH   \n000051.OF                             601318.SH   \n000059.OF                             603882.SH   \n000082.OF                             600036.SH   \n\n          重仓股股票Wind代码\\n[报告期]2020-12-31\\n[名次]第1名  \\\n代码                                                \n000008.OF                             603605.SH   \n000042.OF                             601633.SH   \n000051.OF                             600030.SH   \n000059.OF                             603882.SH   \n000082.OF                             601318.SH   \n\n          重仓股股票Wind代码\\n[报告期]2020-09-30\\n[名次]第2名  \\\n代码                                                \n000008.OF                             601966.SH   \n000042.OF                             000333.SZ   \n000051.OF                             600519.SH   \n000059.OF                             300759.SZ   \n000082.OF                             002475.SZ   \n\n          重仓股股票Wind代码\\n[报告期]2020-12-31\\n[名次]第2名  \\\n代码                                                \n000008.OF                             002500.SZ   \n000042.OF                             002142.SZ   \n000051.OF                             600519.SH   \n000059.OF                             603259.SH   \n000082.OF                             600036.SH   \n\n          重仓股股票Wind代码\\n[报告期]2020-09-30\\n[名次]第3名  \\\n代码                                                \n000008.OF                             605336.SH   \n000042.OF                             000858.SZ   \n000051.OF                             000858.SZ   \n000059.OF                             300347.SZ   \n000082.OF                             601318.SH   \n\n          重仓股股票Wind代码\\n[报告期]2020-12-31\\n[名次]第3名  \\\n代码                                                \n000008.OF                             603737.SH   \n000042.OF                             601166.SH   \n000051.OF                             601318.SH   \n000059.OF                             600276.SH   \n000082.OF                             600519.SH   \n\n          重仓股股票Wind代码\\n[报告期]2020-9-30\\n[名次]第4名  \\\n代码                                               \n000008.OF                            605358.SH   \n000042.OF                            601633.SH   \n000051.OF                            000333.SZ   \n000059.OF                            603259.SH   \n000082.OF                            601336.SH   \n\n          重仓股股票Wind代码\\n[报告期]2020-12-31\\n[名次]第4名  \\\n代码                                                \n000008.OF                             002670.SZ   \n000042.OF                             600519.SH   \n000051.OF                             000858.SZ   \n000059.OF                             300759.SZ   \n000082.OF                             601336.SH   \n\n          重仓股股票Wind代码\\n[报告期]2020-09-30\\n[名次]第5名  \\\n代码                                                \n000008.OF                             605136.SH   \n000042.OF                             000157.SZ   \n000051.OF                             002475.SZ   \n000059.OF                             300015.SZ   \n000082.OF                             600519.SH   \n\n          重仓股股票Wind代码\\n[报告期]2020-12-31\\n[名次]第5名  ...  \\\n代码                                               ...   \n000008.OF                             603444.SH  ...   \n000042.OF                             601919.SH  ...   \n000051.OF                             000333.SZ  ...   \n000059.OF                             000661.SZ  ...   \n000082.OF                             002475.SZ  ...   \n\n          重仓股票持有基金数\\n[报告期]2020-12-31\\n[名次]第3名  \\\n代码                                              \n000008.OF                                   8   \n000042.OF                                 582   \n000051.OF                                1277   \n000059.OF                                 757   \n000082.OF                                1667   \n\n          重仓股票持有基金数\\n[报告期]2020-12-31\\n[名次]第4名  \\\n代码                                              \n000008.OF                                   1   \n000042.OF                                1667   \n000051.OF                                1326   \n000059.OF                                  54   \n000082.OF                                  80   \n\n          重仓股票持有基金数\\n[报告期]2020-12-31\\n[名次]第5名  \\\n代码                                              \n000008.OF                                  53   \n000042.OF                                  36   \n000051.OF                                1060   \n000059.OF                                 457   \n000082.OF                                 784   \n\n          重仓股涨跌幅\\n[报告期]2020-12-31\\n[名次]第1名\\n[起始交易日期]2020-11-01\\n[截止交易日期]2020-12-31  \\\n代码                                                                                   \n000008.OF                                            2.82479                         \n000042.OF                                            59.4013                         \n000051.OF                                            2.68949                         \n000059.OF                                            21.6252                         \n000082.OF                                            11.7564                         \n\n          重仓股涨跌幅\\n[报告期]2020-12-31\\n[名次]第2名\\n[起始交易日期]2020-11-01\\n[截止交易日期]2020-12-31  \\\n代码                                                                                   \n000008.OF                                            19.1744                         \n000042.OF                                            4.00235                         \n000051.OF                                            19.6393                         \n000059.OF                                            19.5174                         \n000082.OF                                            10.3994                         \n\n          重仓股涨跌幅\\n[报告期]2020-12-31\\n[名次]第3名\\n[起始交易日期]2020-11-01\\n[截止交易日期]2020-12-31  \\\n代码                                                                                   \n000008.OF                                            2.32338                         \n000042.OF                                            17.2472                         \n000051.OF                                            11.7564                         \n000059.OF                                            25.4615                         \n000082.OF                                            19.6393                         \n\n          重仓股涨跌幅\\n[报告期]2020-12-31\\n[名次]第4名\\n[起始交易日期]2020-11-01\\n[截止交易日期]2020-12-31  \\\n代码                                                                                   \n000008.OF                                            55.3672                         \n000042.OF                                            19.6393                         \n000051.OF                                            19.4393                         \n000059.OF                                            4.69565                         \n000082.OF                                           -9.70405                         \n\n          重仓股涨跌幅\\n[报告期]2020-12-31\\n[名次]第5名\\n[起始交易日期]2020-11-01\\n[截止交易日期]2020-12-31  \\\n代码                                                                                   \n000008.OF                                           -9.40989                         \n000042.OF                                            86.6972                         \n000051.OF                                            26.4158                         \n000059.OF                                            19.8628                         \n000082.OF                                            2.29676                         \n\n          平均持仓时间\\n[年度]2020 平均持仓时间同类排名\\n[年度]2020\\n[基金分类]开放式/封闭式  \n代码                                                              \n000008.OF        0.0130596                             97.0233  \n000042.OF         0.244094                             81.7826  \n000051.OF         0.852148                             38.4079  \n000059.OF          2.73168                             7.92652  \n000082.OF         0.819658                             39.9728  \n\n[5 rows x 22 columns]",
      "text/html": "<div>\n<style scoped>\n    .dataframe tbody tr th:only-of-type {\n        vertical-align: middle;\n    }\n\n    .dataframe tbody tr th {\n        vertical-align: top;\n    }\n\n    .dataframe thead th {\n        text-align: right;\n    }\n</style>\n<table border=\"1\" class=\"dataframe\">\n  <thead>\n    <tr style=\"text-align: right;\">\n      <th></th>\n      <th>重仓股股票Wind代码\n[报告期]2020-09-30\n[名次]第1名</th>\n      <th>重仓股股票Wind代码\n[报告期]2020-12-31\n[名次]第1名</th>\n      <th>重仓股股票Wind代码\n[报告期]2020-09-30\n[名次]第2名</th>\n      <th>重仓股股票Wind代码\n[报告期]2020-12-31\n[名次]第2名</th>\n      <th>重仓股股票Wind代码\n[报告期]2020-09-30\n[名次]第3名</th>\n      <th>重仓股股票Wind代码\n[报告期]2020-12-31\n[名次]第3名</th>\n      <th>重仓股股票Wind代码\n[报告期]2020-9-30\n[名次]第4名</th>\n      <th>重仓股股票Wind代码\n[报告期]2020-12-31\n[名次]第4名</th>\n      <th>重仓股股票Wind代码\n[报告期]2020-09-30\n[名次]第5名</th>\n      <th>重仓股股票Wind代码\n[报告期]2020-12-31\n[名次]第5名</th>\n      <th>...</th>\n      <th>重仓股票持有基金数\n[报告期]2020-12-31\n[名次]第3名</th>\n      <th>重仓股票持有基金数\n[报告期]2020-12-31\n[名次]第4名</th>\n      <th>重仓股票持有基金数\n[报告期]2020-12-31\n[名次]第5名</th>\n      <th>重仓股涨跌幅\n[报告期]2020-12-31\n[名次]第1名\n[起始交易日期]2020-11-01\n[截止交易日期]2020-12-31</th>\n      <th>重仓股涨跌幅\n[报告期]2020-12-31\n[名次]第2名\n[起始交易日期]2020-11-01\n[截止交易日期]2020-12-31</th>\n      <th>重仓股涨跌幅\n[报告期]2020-12-31\n[名次]第3名\n[起始交易日期]2020-11-01\n[截止交易日期]2020-12-31</th>\n      <th>重仓股涨跌幅\n[报告期]2020-12-31\n[名次]第4名\n[起始交易日期]2020-11-01\n[截止交易日期]2020-12-31</th>\n      <th>重仓股涨跌幅\n[报告期]2020-12-31\n[名次]第5名\n[起始交易日期]2020-11-01\n[截止交易日期]2020-12-31</th>\n      <th>平均持仓时间\n[年度]2020</th>\n      <th>平均持仓时间同类排名\n[年度]2020\n[基金分类]开放式/封闭式</th>\n    </tr>\n    <tr>\n      <th>代码</th>\n      <th></th>\n      <th></th>\n      <th></th>\n      <th></th>\n      <th></th>\n      <th></th>\n      <th></th>\n      <th></th>\n      <th></th>\n      <th></th>\n      <th></th>\n      <th></th>\n      <th></th>\n      <th></th>\n      <th></th>\n      <th></th>\n      <th></th>\n      <th></th>\n      <th></th>\n      <th></th>\n      <th></th>\n    </tr>\n  </thead>\n  <tbody>\n    <tr>\n      <th>000008.OF</th>\n      <td>600008.SH</td>\n      <td>603605.SH</td>\n      <td>601966.SH</td>\n      <td>002500.SZ</td>\n      <td>605336.SH</td>\n      <td>603737.SH</td>\n      <td>605358.SH</td>\n      <td>002670.SZ</td>\n      <td>605136.SH</td>\n      <td>603444.SH</td>\n      <td>...</td>\n      <td>8</td>\n      <td>1</td>\n      <td>53</td>\n      <td>2.82479</td>\n      <td>19.1744</td>\n      <td>2.32338</td>\n      <td>55.3672</td>\n      <td>-9.40989</td>\n      <td>0.0130596</td>\n      <td>97.0233</td>\n    </tr>\n    <tr>\n      <th>000042.OF</th>\n      <td>600519.SH</td>\n      <td>601633.SH</td>\n      <td>000333.SZ</td>\n      <td>002142.SZ</td>\n      <td>000858.SZ</td>\n      <td>601166.SH</td>\n      <td>601633.SH</td>\n      <td>600519.SH</td>\n      <td>000157.SZ</td>\n      <td>601919.SH</td>\n      <td>...</td>\n      <td>582</td>\n      <td>1667</td>\n      <td>36</td>\n      <td>59.4013</td>\n      <td>4.00235</td>\n      <td>17.2472</td>\n      <td>19.6393</td>\n      <td>86.6972</td>\n      <td>0.244094</td>\n      <td>81.7826</td>\n    </tr>\n    <tr>\n      <th>000051.OF</th>\n      <td>601318.SH</td>\n      <td>600030.SH</td>\n      <td>600519.SH</td>\n      <td>600519.SH</td>\n      <td>000858.SZ</td>\n      <td>601318.SH</td>\n      <td>000333.SZ</td>\n      <td>000858.SZ</td>\n      <td>002475.SZ</td>\n      <td>000333.SZ</td>\n      <td>...</td>\n      <td>1277</td>\n      <td>1326</td>\n      <td>1060</td>\n      <td>2.68949</td>\n      <td>19.6393</td>\n      <td>11.7564</td>\n      <td>19.4393</td>\n      <td>26.4158</td>\n      <td>0.852148</td>\n      <td>38.4079</td>\n    </tr>\n    <tr>\n      <th>000059.OF</th>\n      <td>603882.SH</td>\n      <td>603882.SH</td>\n      <td>300759.SZ</td>\n      <td>603259.SH</td>\n      <td>300347.SZ</td>\n      <td>600276.SH</td>\n      <td>603259.SH</td>\n      <td>300759.SZ</td>\n      <td>300015.SZ</td>\n      <td>000661.SZ</td>\n      <td>...</td>\n      <td>757</td>\n      <td>54</td>\n      <td>457</td>\n      <td>21.6252</td>\n      <td>19.5174</td>\n      <td>25.4615</td>\n      <td>4.69565</td>\n      <td>19.8628</td>\n      <td>2.73168</td>\n      <td>7.92652</td>\n    </tr>\n    <tr>\n      <th>000082.OF</th>\n      <td>600036.SH</td>\n      <td>601318.SH</td>\n      <td>002475.SZ</td>\n      <td>600036.SH</td>\n      <td>601318.SH</td>\n      <td>600519.SH</td>\n      <td>601336.SH</td>\n      <td>601336.SH</td>\n      <td>600519.SH</td>\n      <td>002475.SZ</td>\n      <td>...</td>\n      <td>1667</td>\n      <td>80</td>\n      <td>784</td>\n      <td>11.7564</td>\n      <td>10.3994</td>\n      <td>19.6393</td>\n      <td>-9.70405</td>\n      <td>2.29676</td>\n      <td>0.819658</td>\n      <td>39.9728</td>\n    </tr>\n  </tbody>\n</table>\n<p>5 rows × 22 columns</p>\n</div>"
     },
     "metadata": {},
     "output_type": "execute_result",
     "execution_count": 49
    }
   ],
   "source": [
    "fund_simpled_data = fund_simpled_data.drop(\"Code\",axis=0)\n",
    "fund_simpled_data.head()\n"
   ],
   "metadata": {
    "collapsed": false,
    "pycharm": {
     "name": "#%%\n",
     "is_executing": false
    }
   }
  },
  {
   "cell_type": "code",
   "execution_count": 50,
   "outputs": [],
   "source": [
    "#去除掉有空值的情况，并去掉投资为港股的基金\n",
    "fund_simpled_data.dropna(inplace=True)\n",
    "final_fund_simpled_data = fund_simpled_data[~fund_simpled_data[fund_simpled_data.columns[0]].str.endswith('HK')]"
   ],
   "metadata": {
    "collapsed": false,
    "pycharm": {
     "name": "#%%\n",
     "is_executing": false
    }
   }
  },
  {
   "cell_type": "code",
   "execution_count": 51,
   "outputs": [
    {
     "data": {
      "text/plain": "(1361, 22)"
     },
     "metadata": {},
     "output_type": "execute_result",
     "execution_count": 51
    }
   ],
   "source": [
    "final_fund_simpled_data.shape\n"
   ],
   "metadata": {
    "collapsed": false,
    "pycharm": {
     "name": "#%%\n",
     "is_executing": false
    }
   }
  },
  {
   "cell_type": "markdown",
   "source": [
    "###初步的数据分析"
   ],
   "metadata": {
    "collapsed": false
   }
  },
  {
   "cell_type": "code",
   "execution_count": 52,
   "outputs": [
    {
     "name": "stderr",
     "text": [
      "c:\\users\\92306\\.pyenv\\pyenv-win\\versions\\3.7.4-amd64\\lib\\site-packages\\ipykernel_launcher.py:3: SettingWithCopyWarning: \n",
      "A value is trying to be set on a copy of a slice from a DataFrame.\n",
      "Try using .loc[row_indexer,col_indexer] = value instead\n",
      "\n",
      "See the caveats in the documentation: http://pandas.pydata.org/pandas-docs/stable/indexing.html#indexing-view-versus-copy\n",
      "  This is separate from the ipykernel package so we can avoid doing imports until\n"
     ],
     "output_type": "stream"
    },
    {
     "data": {
      "text/plain": "<matplotlib.axes._subplots.AxesSubplot at 0x22ff879b1c8>"
     },
     "metadata": {},
     "output_type": "execute_result",
     "execution_count": 52
    },
    {
     "data": {
      "text/plain": "<Figure size 432x288 with 1 Axes>",
      "image/png": "[encoded data removed]"
     },
     "metadata": {
      "needs_background": "light"
     },
     "output_type": "display_data"
    }
   ],
   "source": [
    "#分析重仓股票持有基金数的分布\n",
    "#建立新列，统计基金前五只重仓股票的平均持有基金数\n",
    "final_fund_simpled_data['重仓股票平均持仓基金数'] = final_fund_simpled_data.iloc[:,list(range(10,15))].mean(axis=1)\n",
    "final_fund_simpled_data['重仓股票平均持仓基金数'].hist(grid=False,bins=20)"
   ],
   "metadata": {
    "collapsed": false,
    "pycharm": {
     "name": "#%%\n",
     "is_executing": false
    }
   }
  },
  {
   "cell_type": "code",
   "execution_count": 53,
   "outputs": [
    {
     "data": {
      "text/plain": "count    1361.000000\nmean      493.936664\nstd       396.273359\nmin         1.200000\n25%       124.600000\n50%       420.400000\n75%       820.200000\nmax      1239.400000\nName: 重仓股票平均持仓基金数, dtype: float64"
     },
     "metadata": {},
     "output_type": "execute_result",
     "execution_count": 53
    }
   ],
   "source": [
    "final_fund_simpled_data['重仓股票平均持仓基金数'].describe()"
   ],
   "metadata": {
    "collapsed": false,
    "pycharm": {
     "name": "#%%\n",
     "is_executing": false
    }
   }
  },
  {
   "cell_type": "code",
   "execution_count": 54,
   "outputs": [
    {
     "data": {
      "text/plain": "array([  1.2,  98.4, 299.6, 507.2, 910. ])"
     },
     "metadata": {},
     "output_type": "execute_result",
     "execution_count": 54
    }
   ],
   "source": [
    "#统计基金前五只重仓股票的平均持有基金数不同分位数的情况，便于后面的评分标准的设立\n",
    "np.percentile(final_fund_simpled_data['重仓股票平均持仓基金数'],np.arange(0,100,20))"
   ],
   "metadata": {
    "collapsed": false,
    "pycharm": {
     "name": "#%%\n",
     "is_executing": false
    }
   }
  },
  {
   "cell_type": "code",
   "execution_count": 55,
   "outputs": [
    {
     "name": "stderr",
     "text": [
      "c:\\users\\92306\\.pyenv\\pyenv-win\\versions\\3.7.4-amd64\\lib\\site-packages\\ipykernel_launcher.py:2: SettingWithCopyWarning: \n",
      "A value is trying to be set on a copy of a slice from a DataFrame.\n",
      "Try using .loc[row_indexer,col_indexer] = value instead\n",
      "\n",
      "See the caveats in the documentation: http://pandas.pydata.org/pandas-docs/stable/indexing.html#indexing-view-versus-copy\n",
      "  \n"
     ],
     "output_type": "stream"
    },
    {
     "data": {
      "text/plain": "<matplotlib.axes._subplots.AxesSubplot at 0x22ff8ad34c8>"
     },
     "metadata": {},
     "output_type": "execute_result",
     "execution_count": 55
    },
    {
     "data": {
      "text/plain": "<Figure size 432x288 with 1 Axes>",
      "image/png": "[encoded data removed]"
     },
     "metadata": {
      "needs_background": "light"
     },
     "output_type": "display_data"
    }
   ],
   "source": [
    "#重仓股票在过去两个月的涨跌幅\n",
    "final_fund_simpled_data['重仓股票平均涨跌幅'] = final_fund_simpled_data.iloc[:,list(range(15,20))].mean(axis=1)\n",
    "final_fund_simpled_data['重仓股票平均涨跌幅'].hist(grid=False,bins=20)"
   ],
   "metadata": {
    "collapsed": false,
    "pycharm": {
     "name": "#%%\n",
     "is_executing": false
    }
   }
  },
  {
   "cell_type": "code",
   "execution_count": 56,
   "outputs": [
    {
     "data": {
      "text/plain": "count    1361.000000\nmean       21.063924\nstd        13.011598\nmin       -16.562691\n25%        13.352128\n50%        18.734480\n75%        28.191042\nmax       104.061373\nName: 重仓股票平均涨跌幅, dtype: float64"
     },
     "metadata": {},
     "output_type": "execute_result",
     "execution_count": 56
    }
   ],
   "source": [
    "final_fund_simpled_data['重仓股票平均涨跌幅'].describe()\n"
   ],
   "metadata": {
    "collapsed": false,
    "pycharm": {
     "name": "#%%\n",
     "is_executing": false
    }
   }
  },
  {
   "cell_type": "code",
   "execution_count": 57,
   "outputs": [
    {
     "data": {
      "text/plain": "array([-16.56269076,  11.41972663,  17.5024325 ,  20.90311037,\n        30.06018697])"
     },
     "metadata": {},
     "output_type": "execute_result",
     "execution_count": 57
    }
   ],
   "source": [
    "#统计基金前五只重仓股票的平均涨跌幅不同分位数的情况，便于后面的评分标准的设立\n",
    "np.percentile(final_fund_simpled_data['重仓股票平均涨跌幅'],np.arange(0,100,20))\n",
    "\n"
   ],
   "metadata": {
    "collapsed": false,
    "pycharm": {
     "name": "#%%\n",
     "is_executing": false
    }
   }
  },
  {
   "cell_type": "code",
   "execution_count": 58,
   "outputs": [
    {
     "data": {
      "text/plain": "          重仓股股票Wind代码\\n[报告期]2020-09-30\\n[名次]第1名  \\\n代码                                                \n000008.OF                             600008.SH   \n000042.OF                             600519.SH   \n000051.OF                             601318.SH   \n000059.OF                             603882.SH   \n000082.OF                             600036.SH   \n\n          重仓股股票Wind代码\\n[报告期]2020-12-31\\n[名次]第1名  \\\n代码                                                \n000008.OF                             603605.SH   \n000042.OF                             601633.SH   \n000051.OF                             600030.SH   \n000059.OF                             603882.SH   \n000082.OF                             601318.SH   \n\n          重仓股股票Wind代码\\n[报告期]2020-09-30\\n[名次]第2名  \\\n代码                                                \n000008.OF                             601966.SH   \n000042.OF                             000333.SZ   \n000051.OF                             600519.SH   \n000059.OF                             300759.SZ   \n000082.OF                             002475.SZ   \n\n          重仓股股票Wind代码\\n[报告期]2020-12-31\\n[名次]第2名  \\\n代码                                                \n000008.OF                             002500.SZ   \n000042.OF                             002142.SZ   \n000051.OF                             600519.SH   \n000059.OF                             603259.SH   \n000082.OF                             600036.SH   \n\n          重仓股股票Wind代码\\n[报告期]2020-09-30\\n[名次]第3名  \\\n代码                                                \n000008.OF                             605336.SH   \n000042.OF                             000858.SZ   \n000051.OF                             000858.SZ   \n000059.OF                             300347.SZ   \n000082.OF                             601318.SH   \n\n          重仓股股票Wind代码\\n[报告期]2020-12-31\\n[名次]第3名  \\\n代码                                                \n000008.OF                             603737.SH   \n000042.OF                             601166.SH   \n000051.OF                             601318.SH   \n000059.OF                             600276.SH   \n000082.OF                             600519.SH   \n\n          重仓股股票Wind代码\\n[报告期]2020-9-30\\n[名次]第4名  \\\n代码                                               \n000008.OF                            605358.SH   \n000042.OF                            601633.SH   \n000051.OF                            000333.SZ   \n000059.OF                            603259.SH   \n000082.OF                            601336.SH   \n\n          重仓股股票Wind代码\\n[报告期]2020-12-31\\n[名次]第4名  \\\n代码                                                \n000008.OF                             002670.SZ   \n000042.OF                             600519.SH   \n000051.OF                             000858.SZ   \n000059.OF                             300759.SZ   \n000082.OF                             601336.SH   \n\n          重仓股股票Wind代码\\n[报告期]2020-09-30\\n[名次]第5名  \\\n代码                                                \n000008.OF                             605136.SH   \n000042.OF                             000157.SZ   \n000051.OF                             002475.SZ   \n000059.OF                             300015.SZ   \n000082.OF                             600519.SH   \n\n          重仓股股票Wind代码\\n[报告期]2020-12-31\\n[名次]第5名  ...  \\\n代码                                               ...   \n000008.OF                             603444.SH  ...   \n000042.OF                             601919.SH  ...   \n000051.OF                             000333.SZ  ...   \n000059.OF                             000661.SZ  ...   \n000082.OF                             002475.SZ  ...   \n\n          重仓股票持有基金数\\n[报告期]2020-12-31\\n[名次]第5名  \\\n代码                                              \n000008.OF                                  53   \n000042.OF                                  36   \n000051.OF                                1060   \n000059.OF                                 457   \n000082.OF                                 784   \n\n          重仓股涨跌幅\\n[报告期]2020-12-31\\n[名次]第1名\\n[起始交易日期]2020-11-01\\n[截止交易日期]2020-12-31  \\\n代码                                                                                   \n000008.OF                                            2.82479                         \n000042.OF                                            59.4013                         \n000051.OF                                            2.68949                         \n000059.OF                                            21.6252                         \n000082.OF                                            11.7564                         \n\n          重仓股涨跌幅\\n[报告期]2020-12-31\\n[名次]第2名\\n[起始交易日期]2020-11-01\\n[截止交易日期]2020-12-31  \\\n代码                                                                                   \n000008.OF                                            19.1744                         \n000042.OF                                            4.00235                         \n000051.OF                                            19.6393                         \n000059.OF                                            19.5174                         \n000082.OF                                            10.3994                         \n\n          重仓股涨跌幅\\n[报告期]2020-12-31\\n[名次]第3名\\n[起始交易日期]2020-11-01\\n[截止交易日期]2020-12-31  \\\n代码                                                                                   \n000008.OF                                            2.32338                         \n000042.OF                                            17.2472                         \n000051.OF                                            11.7564                         \n000059.OF                                            25.4615                         \n000082.OF                                            19.6393                         \n\n          重仓股涨跌幅\\n[报告期]2020-12-31\\n[名次]第4名\\n[起始交易日期]2020-11-01\\n[截止交易日期]2020-12-31  \\\n代码                                                                                   \n000008.OF                                            55.3672                         \n000042.OF                                            19.6393                         \n000051.OF                                            19.4393                         \n000059.OF                                            4.69565                         \n000082.OF                                           -9.70405                         \n\n          重仓股涨跌幅\\n[报告期]2020-12-31\\n[名次]第5名\\n[起始交易日期]2020-11-01\\n[截止交易日期]2020-12-31  \\\n代码                                                                                   \n000008.OF                                           -9.40989                         \n000042.OF                                            86.6972                         \n000051.OF                                            26.4158                         \n000059.OF                                            19.8628                         \n000082.OF                                            2.29676                         \n\n          平均持仓时间\\n[年度]2020 平均持仓时间同类排名\\n[年度]2020\\n[基金分类]开放式/封闭式 重仓股票平均持仓基金数  \\\n代码                                                                           \n000008.OF        0.0130596                             97.0233        17.8   \n000042.OF         0.244094                             81.7826       544.2   \n000051.OF         0.852148                             38.4079      1119.6   \n000059.OF          2.73168                             7.92652       378.2   \n000082.OF         0.819658                             39.9728       935.0   \n\n           重仓股票平均涨跌幅  \n代码                    \n000008.OF  14.055991  \n000042.OF  37.397486  \n000051.OF  15.988063  \n000059.OF  18.232503  \n000082.OF   6.877556  \n\n[5 rows x 24 columns]",
      "text/html": "<div>\n<style scoped>\n    .dataframe tbody tr th:only-of-type {\n        vertical-align: middle;\n    }\n\n    .dataframe tbody tr th {\n        vertical-align: top;\n    }\n\n    .dataframe thead th {\n        text-align: right;\n    }\n</style>\n<table border=\"1\" class=\"dataframe\">\n  <thead>\n    <tr style=\"text-align: right;\">\n      <th></th>\n      <th>重仓股股票Wind代码\n[报告期]2020-09-30\n[名次]第1名</th>\n      <th>重仓股股票Wind代码\n[报告期]2020-12-31\n[名次]第1名</th>\n      <th>重仓股股票Wind代码\n[报告期]2020-09-30\n[名次]第2名</th>\n      <th>重仓股股票Wind代码\n[报告期]2020-12-31\n[名次]第2名</th>\n      <th>重仓股股票Wind代码\n[报告期]2020-09-30\n[名次]第3名</th>\n      <th>重仓股股票Wind代码\n[报告期]2020-12-31\n[名次]第3名</th>\n      <th>重仓股股票Wind代码\n[报告期]2020-9-30\n[名次]第4名</th>\n      <th>重仓股股票Wind代码\n[报告期]2020-12-31\n[名次]第4名</th>\n      <th>重仓股股票Wind代码\n[报告期]2020-09-30\n[名次]第5名</th>\n      <th>重仓股股票Wind代码\n[报告期]2020-12-31\n[名次]第5名</th>\n      <th>...</th>\n      <th>重仓股票持有基金数\n[报告期]2020-12-31\n[名次]第5名</th>\n      <th>重仓股涨跌幅\n[报告期]2020-12-31\n[名次]第1名\n[起始交易日期]2020-11-01\n[截止交易日期]2020-12-31</th>\n      <th>重仓股涨跌幅\n[报告期]2020-12-31\n[名次]第2名\n[起始交易日期]2020-11-01\n[截止交易日期]2020-12-31</th>\n      <th>重仓股涨跌幅\n[报告期]2020-12-31\n[名次]第3名\n[起始交易日期]2020-11-01\n[截止交易日期]2020-12-31</th>\n      <th>重仓股涨跌幅\n[报告期]2020-12-31\n[名次]第4名\n[起始交易日期]2020-11-01\n[截止交易日期]2020-12-31</th>\n      <th>重仓股涨跌幅\n[报告期]2020-12-31\n[名次]第5名\n[起始交易日期]2020-11-01\n[截止交易日期]2020-12-31</th>\n      <th>平均持仓时间\n[年度]2020</th>\n      <th>平均持仓时间同类排名\n[年度]2020\n[基金分类]开放式/封闭式</th>\n      <th>重仓股票平均持仓基金数</th>\n      <th>重仓股票平均涨跌幅</th>\n    </tr>\n    <tr>\n      <th>代码</th>\n      <th></th>\n      <th></th>\n      <th></th>\n      <th></th>\n      <th></th>\n      <th></th>\n      <th></th>\n      <th></th>\n      <th></th>\n      <th></th>\n      <th></th>\n      <th></th>\n      <th></th>\n      <th></th>\n      <th></th>\n      <th></th>\n      <th></th>\n      <th></th>\n      <th></th>\n      <th></th>\n      <th></th>\n    </tr>\n  </thead>\n  <tbody>\n    <tr>\n      <th>000008.OF</th>\n      <td>600008.SH</td>\n      <td>603605.SH</td>\n      <td>601966.SH</td>\n      <td>002500.SZ</td>\n      <td>605336.SH</td>\n      <td>603737.SH</td>\n      <td>605358.SH</td>\n      <td>002670.SZ</td>\n      <td>605136.SH</td>\n      <td>603444.SH</td>\n      <td>...</td>\n      <td>53</td>\n      <td>2.82479</td>\n      <td>19.1744</td>\n      <td>2.32338</td>\n      <td>55.3672</td>\n      <td>-9.40989</td>\n      <td>0.0130596</td>\n      <td>97.0233</td>\n      <td>17.8</td>\n      <td>14.055991</td>\n    </tr>\n    <tr>\n      <th>000042.OF</th>\n      <td>600519.SH</td>\n      <td>601633.SH</td>\n      <td>000333.SZ</td>\n      <td>002142.SZ</td>\n      <td>000858.SZ</td>\n      <td>601166.SH</td>\n      <td>601633.SH</td>\n      <td>600519.SH</td>\n      <td>000157.SZ</td>\n      <td>601919.SH</td>\n      <td>...</td>\n      <td>36</td>\n      <td>59.4013</td>\n      <td>4.00235</td>\n      <td>17.2472</td>\n      <td>19.6393</td>\n      <td>86.6972</td>\n      <td>0.244094</td>\n      <td>81.7826</td>\n      <td>544.2</td>\n      <td>37.397486</td>\n    </tr>\n    <tr>\n      <th>000051.OF</th>\n      <td>601318.SH</td>\n      <td>600030.SH</td>\n      <td>600519.SH</td>\n      <td>600519.SH</td>\n      <td>000858.SZ</td>\n      <td>601318.SH</td>\n      <td>000333.SZ</td>\n      <td>000858.SZ</td>\n      <td>002475.SZ</td>\n      <td>000333.SZ</td>\n      <td>...</td>\n      <td>1060</td>\n      <td>2.68949</td>\n      <td>19.6393</td>\n      <td>11.7564</td>\n      <td>19.4393</td>\n      <td>26.4158</td>\n      <td>0.852148</td>\n      <td>38.4079</td>\n      <td>1119.6</td>\n      <td>15.988063</td>\n    </tr>\n    <tr>\n      <th>000059.OF</th>\n      <td>603882.SH</td>\n      <td>603882.SH</td>\n      <td>300759.SZ</td>\n      <td>603259.SH</td>\n      <td>300347.SZ</td>\n      <td>600276.SH</td>\n      <td>603259.SH</td>\n      <td>300759.SZ</td>\n      <td>300015.SZ</td>\n      <td>000661.SZ</td>\n      <td>...</td>\n      <td>457</td>\n      <td>21.6252</td>\n      <td>19.5174</td>\n      <td>25.4615</td>\n      <td>4.69565</td>\n      <td>19.8628</td>\n      <td>2.73168</td>\n      <td>7.92652</td>\n      <td>378.2</td>\n      <td>18.232503</td>\n    </tr>\n    <tr>\n      <th>000082.OF</th>\n      <td>600036.SH</td>\n      <td>601318.SH</td>\n      <td>002475.SZ</td>\n      <td>600036.SH</td>\n      <td>601318.SH</td>\n      <td>600519.SH</td>\n      <td>601336.SH</td>\n      <td>601336.SH</td>\n      <td>600519.SH</td>\n      <td>002475.SZ</td>\n      <td>...</td>\n      <td>784</td>\n      <td>11.7564</td>\n      <td>10.3994</td>\n      <td>19.6393</td>\n      <td>-9.70405</td>\n      <td>2.29676</td>\n      <td>0.819658</td>\n      <td>39.9728</td>\n      <td>935.0</td>\n      <td>6.877556</td>\n    </tr>\n  </tbody>\n</table>\n<p>5 rows × 24 columns</p>\n</div>"
     },
     "metadata": {},
     "output_type": "execute_result",
     "execution_count": 58
    }
   ],
   "source": [
    "final_fund_simpled_data.head()"
   ],
   "metadata": {
    "collapsed": false,
    "pycharm": {
     "name": "#%%\n",
     "is_executing": false
    }
   }
  },
  {
   "cell_type": "code",
   "execution_count": 62,
   "outputs": [
    {
     "data": {
      "text/plain": "<matplotlib.axes._subplots.AxesSubplot at 0x22ffb06bf08>"
     },
     "metadata": {},
     "output_type": "execute_result",
     "execution_count": 62
    },
    {
     "data": {
      "text/plain": "<Figure size 432x288 with 1 Axes>",
      "image/png": "[encoded data removed]"
     },
     "metadata": {
      "needs_background": "light"
     },
     "output_type": "display_data"
    }
   ],
   "source": [
    "#基金平均持仓时间的分布\n",
    "final_fund_simpled_data[final_fund_simpled_data.columns[-4]].hist(grid=False,bins=10)"
   ],
   "metadata": {
    "collapsed": false,
    "pycharm": {
     "name": "#%%\n",
     "is_executing": false
    }
   }
  },
  {
   "cell_type": "code",
   "execution_count": 63,
   "outputs": [
    {
     "data": {
      "text/plain": "count     1361.0\nunique     976.0\ntop          0.0\nfreq        86.0\nName: 平均持仓时间\\n[年度]2020, dtype: float64"
     },
     "metadata": {},
     "output_type": "execute_result",
     "execution_count": 63
    }
   ],
   "source": [
    "final_fund_simpled_data[final_fund_simpled_data.columns[-4]].describe()"
   ],
   "metadata": {
    "collapsed": false,
    "pycharm": {
     "name": "#%%\n",
     "is_executing": false
    }
   }
  },
  {
   "cell_type": "code",
   "execution_count": 64,
   "outputs": [
    {
     "data": {
      "text/plain": "array([0.0, 0.2013570459481305, 0.5073716062043004, 1.0115915833441453,\n       2.2198719887950893], dtype=object)"
     },
     "metadata": {},
     "output_type": "execute_result",
     "execution_count": 64
    }
   ],
   "source": [
    "np.percentile(final_fund_simpled_data[final_fund_simpled_data.columns[-4]],np.arange(0,100,20))"
   ],
   "metadata": {
    "collapsed": false,
    "pycharm": {
     "name": "#%%\n",
     "is_executing": false
    }
   }
  },
  {
   "cell_type": "code",
   "execution_count": 65,
   "outputs": [
    {
     "data": {
      "text/plain": "<matplotlib.axes._subplots.AxesSubplot at 0x22ff6422c08>"
     },
     "metadata": {},
     "output_type": "execute_result",
     "execution_count": 65
    },
    {
     "data": {
      "text/plain": "<Figure size 432x288 with 1 Axes>",
      "image/png": "[encoded data removed]"
     },
     "metadata": {
      "needs_background": "light"
     },
     "output_type": "display_data"
    }
   ],
   "source": [
    "#基金平均持仓时间同业排名的分布\n",
    "final_fund_simpled_data[final_fund_simpled_data.columns[-3]].hist(grid=False,bins=10)\n"
   ],
   "metadata": {
    "collapsed": false,
    "pycharm": {
     "name": "#%%\n",
     "is_executing": false
    }
   }
  },
  {
   "cell_type": "code",
   "execution_count": 66,
   "outputs": [
    {
     "data": {
      "text/plain": "count     1361.0\nunique     976.0\ntop          0.0\nfreq        86.0\nName: 平均持仓时间同类排名\\n[年度]2020\\n[基金分类]开放式/封闭式, dtype: float64"
     },
     "metadata": {},
     "output_type": "execute_result",
     "execution_count": 66
    }
   ],
   "source": [
    "final_fund_simpled_data[final_fund_simpled_data.columns[-3]].describe()"
   ],
   "metadata": {
    "collapsed": false,
    "pycharm": {
     "name": "#%%\n",
     "is_executing": false
    }
   }
  },
  {
   "cell_type": "code",
   "execution_count": 67,
   "outputs": [
    {
     "data": {
      "text/plain": "array([0.0, 7.416227249532233, 25.05528151046096, 49.396155808811024,\n       77.87038612008845], dtype=object)"
     },
     "metadata": {},
     "output_type": "execute_result",
     "execution_count": 67
    }
   ],
   "source": [
    "np.percentile(final_fund_simpled_data[final_fund_simpled_data.columns[-3]],np.arange(0,100,20))\n",
    "\n"
   ],
   "metadata": {
    "collapsed": false,
    "pycharm": {
     "name": "#%%\n",
     "is_executing": false
    }
   }
  },
  {
   "cell_type": "code",
   "execution_count": 68,
   "outputs": [],
   "source": [
    "final_fund_simpled_data.to_excel(\"cleaned_data.xlsx\")"
   ],
   "metadata": {
    "collapsed": false,
    "pycharm": {
     "name": "#%%\n",
     "is_executing": false
    }
   }
  },
  {
   "cell_type": "code",
   "execution_count": null,
   "outputs": [],
   "source": [
    "\n"
   ],
   "metadata": {
    "collapsed": false,
    "pycharm": {
     "name": "#%%\n"
    }
   }
  }
 ],
 "metadata": {
  "kernelspec": {
   "display_name": "Python 3",
   "language": "python",
   "name": "python3"
  },
  "language_info": {
   "codemirror_mode": {
    "name": "ipython",
    "version": 2
   },
   "file_extension": ".py",
   "mimetype": "text/x-python",
   "name": "python",
   "nbconvert_exporter": "python",
   "pygments_lexer": "ipython2",
   "version": "2.7.6"
  },
  "pycharm": {
   "stem_cell": {
    "cell_type": "raw",
    "source": [],
    "metadata": {
     "collapsed": false
    }
   }
  }
 },
 "nbformat": 4,
 "nbformat_minor": 0
}